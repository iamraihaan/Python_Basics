{
  "nbformat": 4,
  "nbformat_minor": 0,
  "metadata": {
    "colab": {
      "provenance": []
    },
    "kernelspec": {
      "name": "python3",
      "display_name": "Python 3"
    },
    "language_info": {
      "name": "python"
    }
  },
  "cells": [
    {
      "cell_type": "markdown",
      "source": [
        "# Files & Exceptional Handling"
      ],
      "metadata": {
        "id": "mvrCEDh0MPAw"
      }
    },
    {
      "cell_type": "markdown",
      "source": [
        "1. Discuss the scenarios where multithreading is preferable to multiprocessing and scenarios where\n",
        "multiprocessing is a better choice."
      ],
      "metadata": {
        "id": "P8aCEmcTMS3A"
      }
    },
    {
      "cell_type": "markdown",
      "source": [
        "When to Use Multithreading\n",
        "\n",
        "I/O-bound tasks: Tasks involving reading/writing files, network operations, or database interactions.\n",
        "\n",
        "Shared memory: When threads need to access shared memory or resources frequently.\n",
        "\n",
        "When to Use Multiprocessing\n",
        "\n",
        "CPU-bound tasks: Tasks requiring heavy computation like mathematical calculations or data processing.\n",
        "\n",
        "Parallel execution: When tasks are independent and can execute in separate processes without shared memory."
      ],
      "metadata": {
        "id": "pobA-J-dMnXQ"
      }
    },
    {
      "cell_type": "code",
      "source": [
        "import threading\n",
        "import time\n",
        "\n",
        "def download_file(file_name):\n",
        "    print(f\"Starting download: {file_name}\")\n",
        "    time.sleep(2)  # Simulating I/O operation\n",
        "    print(f\"Download complete: {file_name}\")\n",
        "\n",
        "threads = []\n",
        "for file in [\"file1.txt\", \"file2.txt\", \"file3.txt\"]:\n",
        "    thread = threading.Thread(target=download_file, args=(file,))\n",
        "    threads.append(thread)\n",
        "    thread.start()\n",
        "\n",
        "for thread in threads:\n",
        "    thread.join()\n",
        "\n",
        "print(\"All downloads completed!\")\n",
        "\n",
        "#Here in the above code we see that multithreading is prefered over multiprocessing."
      ],
      "metadata": {
        "id": "g2TNlaxgM4jg"
      },
      "execution_count": null,
      "outputs": []
    },
    {
      "cell_type": "markdown",
      "source": [
        "2. Describe what a process pool is and how it helps in managing multiple processes efficiently."
      ],
      "metadata": {
        "id": "qsVFDIVHNEIq"
      }
    },
    {
      "cell_type": "markdown",
      "source": [
        "A process pool is a collection of worker processes managed by a pool object to execute tasks concurrently. It simplifies managing multiple processes by reusing workers for tasks, reducing the overhead of creating and destroying processes repeatedly. This is especially useful for executing many short tasks in parallel.\n",
        "\n",
        "Example provided below:"
      ],
      "metadata": {
        "id": "TN1aXFosNMog"
      }
    },
    {
      "cell_type": "code",
      "source": [
        "from multiprocessing import Pool\n",
        "\n",
        "def square(num):\n",
        "    return num * num\n",
        "\n",
        "if __name__ == \"__main__\":\n",
        "    numbers = [1, 2, 3, 4, 5]\n",
        "    with Pool(processes=3) as pool:  # Create a pool with 3 worker processes\n",
        "        results = pool.map(square, numbers)  # Map tasks to processes\n",
        "    print(\"Squares:\", results)\n"
      ],
      "metadata": {
        "colab": {
          "base_uri": "https://localhost:8080/"
        },
        "id": "rJNdpkz2NQHH",
        "outputId": "93c1a577-b852-4ea8-df39-268b4ce7e68f"
      },
      "execution_count": 1,
      "outputs": [
        {
          "output_type": "stream",
          "name": "stdout",
          "text": [
            "Squares: [1, 4, 9, 16, 25]\n"
          ]
        }
      ]
    },
    {
      "cell_type": "markdown",
      "source": [
        "3. Explain what multiprocessing is and why it is used in Python programs."
      ],
      "metadata": {
        "id": "Kh-sq4YtNb2M"
      }
    },
    {
      "cell_type": "markdown",
      "source": [
        "Multiprocessing is a programming technique that uses multiple processes to execute tasks concurrently. Unlike threads, processes run in separate memory spaces, allowing true parallelism. In Python, the multiprocessing module provides tools for creating and managing processes.\n",
        "\n",
        "Multiprocessing is used in Python for the below reasons:\n",
        "\n",
        "Bypass GIL: The Global Interpreter Lock (GIL) limits Python threads to a single CPU core. Multiprocessing avoids this by running processes independently on multiple cores.\n",
        "\n",
        "Parallelism: Improves performance for CPU-bound tasks by utilizing multiple CPU cores.\n",
        "\n",
        "Isolation: Each process has its memory space, reducing the risk of data corruption."
      ],
      "metadata": {
        "id": "N1w1p8ZGNd-g"
      }
    },
    {
      "cell_type": "markdown",
      "source": [
        "4. Write a Python program using multithreading where one thread adds numbers to a list, and another\n",
        "thread removes numbers from the list. Implement a mechanism to avoid race conditions using\n",
        "threading.Lock."
      ],
      "metadata": {
        "id": "qBTvMslUOAqn"
      }
    },
    {
      "cell_type": "code",
      "source": [
        "#Code where one thread adds numbers to a list and another removing number from a list avoiding race condition for the same.\n",
        "\n",
        "import threading\n",
        "import time\n",
        "\n",
        "# Shared list and lock\n",
        "shared_list = []\n",
        "lock = threading.Lock()\n",
        "\n",
        "def add_numbers():\n",
        "    for i in range(5):\n",
        "        time.sleep(1)  # Simulate some delay\n",
        "        with lock:  # Acquire the lock\n",
        "            shared_list.append(i)\n",
        "            print(f\"Added {i}, List: {shared_list}\")\n",
        "\n",
        "def remove_numbers():\n",
        "    for _ in range(5):\n",
        "        time.sleep(1.5)  # Simulate some delay\n",
        "        with lock:  # Acquire the lock\n",
        "            if shared_list:\n",
        "                removed = shared_list.pop(0)\n",
        "                print(f\"Removed {removed}, List: {shared_list}\")\n",
        "            else:\n",
        "                print(\"List is empty, cannot remove!\")\n",
        "\n",
        "# Creating threads\n",
        "add_thread = threading.Thread(target=add_numbers)\n",
        "remove_thread = threading.Thread(target=remove_numbers)\n",
        "\n",
        "# Starting threads\n",
        "add_thread.start()\n",
        "remove_thread.start()\n",
        "\n",
        "# Wait for threads to complete\n",
        "add_thread.join()\n",
        "remove_thread.join()\n",
        "\n",
        "print(\"Final List:\", shared_list)\n"
      ],
      "metadata": {
        "id": "rlZ4HLhhOJ0z"
      },
      "execution_count": null,
      "outputs": []
    },
    {
      "cell_type": "markdown",
      "source": [
        "5. Describe the methods and tools available in Python for safely sharing data between threads and\n",
        "processes."
      ],
      "metadata": {
        "id": "Xls1TJTMOf5J"
      }
    },
    {
      "cell_type": "markdown",
      "source": [
        "In Python, data sharing between threads and processes can be safely managed using various tools and methods. For threads, threading.Lock is commonly used to prevent race conditions by ensuring that only one thread accesses a shared resource at a time. Thread-safe structures like queue.Queue are ideal for producer-consumer models, while threading.Semaphore limits the number of threads accessing a resource simultaneously. threading.RLock allows a single thread to acquire the same lock multiple times. For processes, multiprocessing.Queue facilitates safe data exchange, while multiprocessing.Pipe enables two-way communication between processes. Shared objects like lists and dictionaries can be managed using multiprocessing.Manager, which ensures process safety. For more straightforward shared memory needs, multiprocessing.Value and multiprocessing.Array allow variables and arrays to be shared with optional locking for synchronization. High-level tools like concurrent.futures simplify thread and process management, while asyncio is well-suited for non-blocking I/O tasks, making it an excellent choice for cooperative multitasking. These tools ensure efficient and conflict-free data sharing, tailored to the specific needs of threads or processes."
      ],
      "metadata": {
        "id": "w2-3rGWbOlOe"
      }
    },
    {
      "cell_type": "markdown",
      "source": [
        "6. Discuss why it’s crucial to handle exceptions in concurrent programs and the techniques available for\n",
        "doing so."
      ],
      "metadata": {
        "id": "JW8xG4f8O64P"
      }
    },
    {
      "cell_type": "markdown",
      "source": [
        "In concurrent programs, exceptions can arise independently in different threads or processes, often leading to resource leaks, incomplete tasks, or program crashes if not handled properly. For example, one thread or process failing may not directly stop others, resulting in undefined behavior or corrupted shared data. Proper exception handling ensures the program remains robust, cleans up resources, and provides meaningful feedback when issues occur.\n",
        "\n",
        "There are various techniques to handle exceptions:\n",
        "\n",
        "Using Try catch block.\n",
        "\n",
        "Using Thread process specific excpetional handling\n",
        "\n",
        "Using concurrent futures\n"
      ],
      "metadata": {
        "id": "ZS6o2_KRPDS0"
      }
    },
    {
      "cell_type": "markdown",
      "source": [
        "7. Create a program that uses a thread pool to calculate the factorial of numbers from 1 to 10 concurrently.\n",
        "Use concurrent.futures.ThreadPoolExecutor to manage the threads."
      ],
      "metadata": {
        "id": "u6JtrrPLPbR0"
      }
    },
    {
      "cell_type": "code",
      "source": [
        "#The below code calculates factorial concurrently\n",
        "\n",
        "from concurrent.futures import ThreadPoolExecutor\n",
        "import math\n",
        "\n",
        "# Function to calculate the factorial\n",
        "def calculate_factorial(n):\n",
        "    return math.factorial(n)\n",
        "\n",
        "# Create a ThreadPoolExecutor to manage the thread pool\n",
        "with ThreadPoolExecutor() as executor:\n",
        "    # Submit tasks for numbers 1 to 10\n",
        "    results = list(executor.map(calculate_factorial, range(1, 11)))\n",
        "\n",
        "# Print the results\n",
        "for num, result in zip(range(1, 11), results):\n",
        "    print(f\"Factorial of {num} is {result}\")\n"
      ],
      "metadata": {
        "colab": {
          "base_uri": "https://localhost:8080/"
        },
        "id": "EGKMln0OPhc7",
        "outputId": "b4f767ce-9863-41f1-9737-7967c519579c"
      },
      "execution_count": 2,
      "outputs": [
        {
          "output_type": "stream",
          "name": "stdout",
          "text": [
            "Factorial of 1 is 1\n",
            "Factorial of 2 is 2\n",
            "Factorial of 3 is 6\n",
            "Factorial of 4 is 24\n",
            "Factorial of 5 is 120\n",
            "Factorial of 6 is 720\n",
            "Factorial of 7 is 5040\n",
            "Factorial of 8 is 40320\n",
            "Factorial of 9 is 362880\n",
            "Factorial of 10 is 3628800\n"
          ]
        }
      ]
    },
    {
      "cell_type": "markdown",
      "source": [
        "8. Create a Python program that uses multiprocessing.Pool to compute the square of numbers from 1 to 10 in\n",
        "parallel. Measure the time taken to perform this computation using a pool of different sizes (e.g., 2, 4, 8\n",
        "processes)."
      ],
      "metadata": {
        "id": "PhND5uhVPzqh"
      }
    },
    {
      "cell_type": "code",
      "source": [
        "import multiprocessing\n",
        "import time\n",
        "\n",
        "# Function to compute the square of a number\n",
        "def square(n):\n",
        "    return n * n\n",
        "\n",
        "# Function to run the computation using a pool of processes\n",
        "def compute_squares(pool_size):\n",
        "    start_time = time.time()\n",
        "\n",
        "    with multiprocessing.Pool(pool_size) as pool:\n",
        "        results = pool.map(square, range(1, 11))\n",
        "\n",
        "    end_time = time.time()\n",
        "    print(f\"Pool size {pool_size} results: {results}\")\n",
        "    print(f\"Time taken with pool size {pool_size}: {end_time - start_time:.4f} seconds\\n\")\n",
        "\n",
        "if __name__ == \"__main__\":\n",
        "    # Run with different pool sizes\n",
        "    for pool_size in [2, 4, 8]:\n",
        "        compute_squares(pool_size)\n",
        "\n",
        "# The above code computes the square of numbers from 1 to 10 in parallel. The program measures the time taken for different pool sizes (e.g., 2, 4, and 8 processes):"
      ],
      "metadata": {
        "colab": {
          "base_uri": "https://localhost:8080/"
        },
        "id": "8-6VnOx7P2UH",
        "outputId": "3ca36e82-285a-403c-d5e8-55f3ae4dc295"
      },
      "execution_count": 3,
      "outputs": [
        {
          "output_type": "stream",
          "name": "stdout",
          "text": [
            "Pool size 2 results: [1, 4, 9, 16, 25, 36, 49, 64, 81, 100]\n",
            "Time taken with pool size 2: 0.0381 seconds\n",
            "\n",
            "Pool size 4 results: [1, 4, 9, 16, 25, 36, 49, 64, 81, 100]\n",
            "Time taken with pool size 4: 0.0415 seconds\n",
            "\n",
            "Pool size 8 results: [1, 4, 9, 16, 25, 36, 49, 64, 81, 100]\n",
            "Time taken with pool size 8: 0.0741 seconds\n",
            "\n"
          ]
        }
      ]
    }
  ]
}