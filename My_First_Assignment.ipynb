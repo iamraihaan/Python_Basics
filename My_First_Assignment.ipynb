{
  "nbformat": 4,
  "nbformat_minor": 0,
  "metadata": {
    "colab": {
      "provenance": []
    },
    "kernelspec": {
      "name": "python3",
      "display_name": "Python 3"
    },
    "language_info": {
      "name": "python"
    }
  },
  "cells": [
    {
      "cell_type": "code",
      "execution_count": null,
      "metadata": {
        "id": "uTXZGFYn7cpx"
      },
      "outputs": [],
      "source": [
        "# 1. Explain the key features of Python that make it a popular choice for programming\n",
        "\"\"\"Solution:\n",
        "   Python is one of the most popular programming language today. It is known for its simplicity and broad applicability. Python has a massive ecosystem with libraries and frameworks for almost every use case, from NumPy, Pandas, and Matplotlib for data analysis, to Django and Flask for web development, and TensorFlow and PyTorch for machine learning.\n",
        "   Python is easy to read language and Python supports both object-oriented programming (OOP) and functional programming, allowing developers to choose the best paradigm for their projects.Python has alot of built in libraries which makes it a popular choice for programming.\n",
        " \"\"\"\n",
        "\n"
      ]
    },
    {
      "cell_type": "code",
      "source": [
        "# 2. Describe the role of predefined keywords in python and provide an example of how they are used in a program\n",
        "\"\"\" Solution:\n",
        "     Pre defined keywords are reserved words which are stored in python and they have a special meaning. Pre defined keywords cannots be used as an identifier,function names etc. Some of the predefined keywords are if else, while, for.\"\"\"\n",
        "\n",
        "a =54\n",
        "print(a)"
      ],
      "metadata": {
        "colab": {
          "base_uri": "https://localhost:8080/"
        },
        "id": "GS2GKLYAOjIs",
        "outputId": "7282a9c5-1e54-416d-9fa2-fb25f86ac626"
      },
      "execution_count": 5,
      "outputs": [
        {
          "output_type": "stream",
          "name": "stdout",
          "text": [
            "54\n"
          ]
        }
      ]
    },
    {
      "cell_type": "code",
      "source": [
        "# in above we see that a = 54 is working but if we try to use any reserved keyword as an identifier, it will throw an error.Below is the example\n",
        "if = 20\n",
        "print if"
      ],
      "metadata": {
        "colab": {
          "base_uri": "https://localhost:8080/",
          "height": 106
        },
        "id": "3CNKLatkPM-C",
        "outputId": "f0a83cea-0172-4e48-9274-c348ae4086cd"
      },
      "execution_count": 6,
      "outputs": [
        {
          "output_type": "error",
          "ename": "SyntaxError",
          "evalue": "invalid syntax (<ipython-input-6-ddaf67047efa>, line 2)",
          "traceback": [
            "\u001b[0;36m  File \u001b[0;32m\"<ipython-input-6-ddaf67047efa>\"\u001b[0;36m, line \u001b[0;32m2\u001b[0m\n\u001b[0;31m    if = 20\u001b[0m\n\u001b[0m       ^\u001b[0m\n\u001b[0;31mSyntaxError\u001b[0m\u001b[0;31m:\u001b[0m invalid syntax\n"
          ]
        }
      ]
    },
    {
      "cell_type": "code",
      "source": [
        "# 3. Compare and contrast mutable and immutable objects in Python with examples.\n",
        "\n",
        "''''Mutable objects are objects whose value or state can be changed'''\n",
        "a = [1,2,3]\n",
        "print(a)\n",
        "a[2]=5\n",
        "print(a)"
      ],
      "metadata": {
        "colab": {
          "base_uri": "https://localhost:8080/"
        },
        "id": "62OhPIXrPqMp",
        "outputId": "9be6ce9f-9edd-4ff5-9658-289f5ed92dc5"
      },
      "execution_count": 9,
      "outputs": [
        {
          "output_type": "stream",
          "name": "stdout",
          "text": [
            "[1, 2, 3]\n",
            "[1, 2, 5]\n"
          ]
        }
      ]
    },
    {
      "cell_type": "code",
      "source": [
        "# In the above code we can see that List is a mutable object as the value in index 2 has been modified from 3 to 5. Whereas if we try the same thing with Tuple then we cannot change the value there. Below is an example of tuple\n",
        "\n",
        "a = (1,2,3)\n",
        "print(a)\n",
        "a(2)= 5\n",
        "print(a)"
      ],
      "metadata": {
        "colab": {
          "base_uri": "https://localhost:8080/",
          "height": 106
        },
        "id": "WqRjK1C7QdmQ",
        "outputId": "05ebb4d6-ecac-4fed-e361-352602d1992e"
      },
      "execution_count": 10,
      "outputs": [
        {
          "output_type": "error",
          "ename": "SyntaxError",
          "evalue": "cannot assign to function call here. Maybe you meant '==' instead of '='? (<ipython-input-10-37fde790bc00>, line 5)",
          "traceback": [
            "\u001b[0;36m  File \u001b[0;32m\"<ipython-input-10-37fde790bc00>\"\u001b[0;36m, line \u001b[0;32m5\u001b[0m\n\u001b[0;31m    a(2)= 5\u001b[0m\n\u001b[0m    ^\u001b[0m\n\u001b[0;31mSyntaxError\u001b[0m\u001b[0;31m:\u001b[0m cannot assign to function call here. Maybe you meant '==' instead of '='?\n"
          ]
        }
      ]
    },
    {
      "cell_type": "code",
      "source": [
        "\n",
        "# 4. Discuss different types of operators in Python and provide an example of how are they used\n",
        "\n",
        "\"\"\"\n",
        "   Operators are used to perform operations on variables.There are various kind of operators.\n",
        "\"\"\"\n",
        "'''Some of the operators are listed below with example'''\n",
        "#Arithmetic Operator\n",
        "a=5\n",
        "b=10\n",
        "c=a+b\n",
        "print(c)\n"
      ],
      "metadata": {
        "colab": {
          "base_uri": "https://localhost:8080/"
        },
        "id": "ydoDaXHoRA67",
        "outputId": "d1962d36-ebbc-4d85-bb65-c631ab62a2a3"
      },
      "execution_count": 11,
      "outputs": [
        {
          "output_type": "stream",
          "name": "stdout",
          "text": [
            "15\n"
          ]
        }
      ]
    },
    {
      "cell_type": "code",
      "source": [
        "#Comparison Operator\n",
        "\n",
        "a=5\n",
        "b=10\n",
        "print(a>b)"
      ],
      "metadata": {
        "colab": {
          "base_uri": "https://localhost:8080/"
        },
        "id": "Zeq_UpjHSK2B",
        "outputId": "308b43b9-bb1e-4cca-8da0-4246ca01cdee"
      },
      "execution_count": 12,
      "outputs": [
        {
          "output_type": "stream",
          "name": "stdout",
          "text": [
            "False\n"
          ]
        }
      ]
    },
    {
      "cell_type": "code",
      "source": [
        "#Assignment operator\n",
        "\n",
        "a=5\n",
        "print(a+10)"
      ],
      "metadata": {
        "colab": {
          "base_uri": "https://localhost:8080/"
        },
        "id": "p6y2os24SZ-6",
        "outputId": "1bf3f571-57b6-412c-82f8-481fb3749f4e"
      },
      "execution_count": 13,
      "outputs": [
        {
          "output_type": "stream",
          "name": "stdout",
          "text": [
            "15\n"
          ]
        }
      ]
    },
    {
      "cell_type": "code",
      "source": [
        "#Bitwise operator\n",
        "\n",
        "5&6"
      ],
      "metadata": {
        "colab": {
          "base_uri": "https://localhost:8080/"
        },
        "id": "u8i10OfVSrvq",
        "outputId": "ad12a3d4-3de9-4af2-9da3-3552ddc97b0f"
      },
      "execution_count": 14,
      "outputs": [
        {
          "output_type": "execute_result",
          "data": {
            "text/plain": [
              "4"
            ]
          },
          "metadata": {},
          "execution_count": 14
        }
      ]
    },
    {
      "cell_type": "code",
      "source": [
        "# 5. Explain the concept of type casting in Python with examples"
      ],
      "metadata": {
        "id": "ZPOCqWE7SzGR"
      },
      "execution_count": null,
      "outputs": []
    },
    {
      "cell_type": "code",
      "source": [
        "\"\"\"Type Casting is a process of converting one data type to another. It is important to note that we can convert from int to float, int to string, float to int but not string to int.\"\"\"\n",
        "'''Below is the example of type casting'''\n",
        "\n",
        "a=5\n",
        "type(a)\n",
        "\n",
        "#we see the type of a is int now. Now, if we just want to convert to float, we have to give give float(a)\n",
        "\n",
        "c=float(a)\n",
        "\n",
        "print(c)"
      ],
      "metadata": {
        "colab": {
          "base_uri": "https://localhost:8080/"
        },
        "id": "mkuQZXSbwdeG",
        "outputId": "c2cf307b-b9fa-4015-94f8-a5c1cb826cf3"
      },
      "execution_count": 4,
      "outputs": [
        {
          "output_type": "stream",
          "name": "stdout",
          "text": [
            "5.0\n"
          ]
        }
      ]
    },
    {
      "cell_type": "code",
      "source": [
        "# 6. How do conditional statement work in Python? Illustrate with an example"
      ],
      "metadata": {
        "id": "HKKi98MyyCC1"
      },
      "execution_count": null,
      "outputs": []
    },
    {
      "cell_type": "code",
      "source": [
        "'''Conditional statments are basically statements which executes based on specific conditions.\n",
        "There are 3 types of conditional statements:\n",
        "if statement: Executes a block of code if the condition is true.\n",
        "if-else statement: Executes one block of code if the condition is true, and another block if it is false.\n",
        "if-elif-else statement: Tests multiple conditions, executing corresponding code when a condition is true.'''\n",
        "\n",
        "#Example of conditional statement\n",
        "age = 18\n",
        "if age >= 18:\n",
        "    print(\"You are an adult.\")\n",
        "else:\n",
        "    print(\"You are a minor.\")\n",
        "\n",
        "#the above code checks if the condition age = 18 is satisfying in if block. If it does not satisfy in the if block then it will proceed to the next block and prints the result.\n",
        "\n",
        "\n",
        "\n",
        "\n"
      ],
      "metadata": {
        "colab": {
          "base_uri": "https://localhost:8080/"
        },
        "id": "U-gmZd9DyZa0",
        "outputId": "6a380165-7026-4588-e02f-84b24a81606c"
      },
      "execution_count": 5,
      "outputs": [
        {
          "output_type": "stream",
          "name": "stdout",
          "text": [
            "You are an adult.\n"
          ]
        }
      ]
    },
    {
      "cell_type": "code",
      "source": [
        "# 7. Describe the different types of loops in Python and their use cases with example"
      ],
      "metadata": {
        "id": "ypx6FRC_K1X-"
      },
      "execution_count": null,
      "outputs": []
    },
    {
      "cell_type": "code",
      "source": [
        "'''Loops are control flow statements that repeatedly execute a block of code as long as a specified condition is true or until a certain sequence is completed. Loops are used to automate repetitive tasks, making your code more efficient.\n",
        "Python has 2 types of loops:\n",
        "a. For Loop\n",
        "b. While Loop'''\n",
        "\n",
        "#Use Case of For Loop\n",
        "\n",
        "\n",
        "fruits = [\"apple\", \"banana\", \"cherry\"]\n",
        "for fruit in fruits:\n",
        "    print(fruit)\n",
        "\n",
        "# Use Case of While loop:\n",
        "\n",
        "# Print numbers from 1 to 5\n",
        "i = 1\n",
        "while i <= 5:\n",
        "    print(i)\n",
        "    i += 1\n",
        "\n",
        "# We use for loop when we know the end point. While loop is more preferred when the number of execution times is not known.\n",
        "\n"
      ],
      "metadata": {
        "colab": {
          "base_uri": "https://localhost:8080/"
        },
        "id": "Pazt-8dFK5Lq",
        "outputId": "e8b3c29e-bbfe-49aa-c16b-a5bf8e56d534"
      },
      "execution_count": 7,
      "outputs": [
        {
          "output_type": "stream",
          "name": "stdout",
          "text": [
            "apple\n",
            "banana\n",
            "cherry\n",
            "1\n",
            "2\n",
            "3\n",
            "4\n",
            "5\n"
          ]
        }
      ]
    }
  ]
}