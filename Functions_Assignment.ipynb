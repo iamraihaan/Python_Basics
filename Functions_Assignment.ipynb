{
  "nbformat": 4,
  "nbformat_minor": 0,
  "metadata": {
    "colab": {
      "provenance": []
    },
    "kernelspec": {
      "name": "python3",
      "display_name": "Python 3"
    },
    "language_info": {
      "name": "python"
    }
  },
  "cells": [
    {
      "cell_type": "markdown",
      "source": [
        "1. What is the difference between a function and a method in Python?\n",
        "\n",
        "Soln: A function is a block of code which does some specific task. It exist independently and it is called directly whereas a method is a function that belongs to a object class and it works and called for the data of the object.\n",
        "Functions are called directly whereas methods are called using . (dot) notation."
      ],
      "metadata": {
        "id": "3m6GFJZtDGzz"
      }
    },
    {
      "cell_type": "code",
      "source": [
        "#Function\n",
        "\n",
        "def play():\n",
        "  print(\"Hi Raihaan!\")\n",
        "\n",
        "play()  #calling the function directly\n",
        "\n",
        "\n",
        "#Method\n",
        "\n",
        "class Person:\n",
        "    def __init__(self, name):\n",
        "        self.name = name\n",
        "\n",
        "    def greet(self):  # This is a method\n",
        "        return f\"Hello, {self.name}!\"\n",
        "\n",
        "# Using the method\n",
        "person = Person(\"Alice\")\n",
        "person.greet()  # Returns: \"Hello, Alice!\""
      ],
      "metadata": {
        "colab": {
          "base_uri": "https://localhost:8080/",
          "height": 53
        },
        "id": "NxX1ShY_gCp6",
        "outputId": "45befa41-0413-4ae9-e070-95993c034999"
      },
      "execution_count": 3,
      "outputs": [
        {
          "output_type": "stream",
          "name": "stdout",
          "text": [
            "Hi Raihaan!\n"
          ]
        },
        {
          "output_type": "execute_result",
          "data": {
            "text/plain": [
              "'Hello, Alice!'"
            ],
            "application/vnd.google.colaboratory.intrinsic+json": {
              "type": "string"
            }
          },
          "metadata": {},
          "execution_count": 3
        }
      ]
    },
    {
      "cell_type": "markdown",
      "source": [
        "2. Explain the concept of function arguments and parameters in Python\n",
        "\n",
        "Soln: Function parameters are nothing but variable defined in a function declaration.Function argument are the value passed during calling the function."
      ],
      "metadata": {
        "id": "vLwpsNJugrI8"
      }
    },
    {
      "cell_type": "code",
      "source": [
        "def greet(name, age):  # name and age are parameters\n",
        "    return f\"{name} is {age} years old\"\n",
        "\n",
        "greet(\"Alice\", 25)  # \"Alice\" and 25 are arguments"
      ],
      "metadata": {
        "colab": {
          "base_uri": "https://localhost:8080/",
          "height": 36
        },
        "id": "AI89FwwZhrVV",
        "outputId": "efe4714f-ee73-413a-906e-4d1d6a5d4f83"
      },
      "execution_count": 4,
      "outputs": [
        {
          "output_type": "execute_result",
          "data": {
            "text/plain": [
              "'Alice is 25 years old'"
            ],
            "application/vnd.google.colaboratory.intrinsic+json": {
              "type": "string"
            }
          },
          "metadata": {},
          "execution_count": 4
        }
      ]
    },
    {
      "cell_type": "markdown",
      "source": [
        "3. What are the different ways to define and call a function in Python?\n",
        "\n",
        "Functions are called in various ways. Some of them are listed below:\n",
        "\n",
        "\n",
        "*   Function with Parameters\n",
        "*   Lambda function.\n",
        "\n",
        "\n"
      ],
      "metadata": {
        "id": "cpPWoWyJh8fd"
      }
    },
    {
      "cell_type": "code",
      "source": [
        "#Function with parameters.\n",
        "\n",
        "def greet(name, age):\n",
        "    return f\"{name} is {age} years old\"\n",
        "\n",
        "c= greet(\"Alice\", 25)\n",
        "print(c)\n",
        "\n",
        "\n",
        "#Lambda functions\n",
        "\n",
        "square = lambda x: x ** 2\n",
        "square(5)\n"
      ],
      "metadata": {
        "colab": {
          "base_uri": "https://localhost:8080/"
        },
        "id": "XLotaB8jidtQ",
        "outputId": "89aa11b2-ff0f-445d-c656-f9131651ae3d"
      },
      "execution_count": 6,
      "outputs": [
        {
          "output_type": "stream",
          "name": "stdout",
          "text": [
            "Alice is 25 years old\n"
          ]
        },
        {
          "output_type": "execute_result",
          "data": {
            "text/plain": [
              "25"
            ]
          },
          "metadata": {},
          "execution_count": 6
        }
      ]
    },
    {
      "cell_type": "markdown",
      "source": [
        "4. What is the purpose of the `return` statement in a Python function?\n",
        "\n",
        "Soln: Return statement exits the functions immediately. It can return back any multiple data of any type. If there is no parameters passed, it will return none. Atleast, it will not throw an error."
      ],
      "metadata": {
        "id": "EpLH6OEWi9GA"
      }
    },
    {
      "cell_type": "code",
      "source": [
        "def greet():\n",
        "    pass\n",
        "\n",
        "type(greet())  #if no parameter passed, it will be of NoneType.\n",
        "\n"
      ],
      "metadata": {
        "colab": {
          "base_uri": "https://localhost:8080/"
        },
        "id": "csQD5spjqoTQ",
        "outputId": "a726af10-91b2-451a-c575-705b3c121179"
      },
      "execution_count": 9,
      "outputs": [
        {
          "output_type": "execute_result",
          "data": {
            "text/plain": [
              "NoneType"
            ]
          },
          "metadata": {},
          "execution_count": 9
        }
      ]
    },
    {
      "cell_type": "code",
      "source": [
        "def sum(a,b):\n",
        "  c = a+b\n",
        "  return c #it will return the sum of 5+7\n",
        "\n",
        "add = sum(5,7)\n",
        "print(add)"
      ],
      "metadata": {
        "colab": {
          "base_uri": "https://localhost:8080/"
        },
        "id": "fEgX2yzrrBvm",
        "outputId": "6f773c87-b175-4be7-aeb0-da30ff7fde19"
      },
      "execution_count": 10,
      "outputs": [
        {
          "output_type": "stream",
          "name": "stdout",
          "text": [
            "12\n"
          ]
        }
      ]
    },
    {
      "cell_type": "markdown",
      "source": [
        "5. What are iterators in Python and how do they differ from iterables?\n",
        "\n",
        "Soln: Key differences of Iterators and Iterables in python are listed below:\n",
        "Iterables:\n",
        "\n",
        "Iterables:\n",
        "\n",
        "Can be iterated over multiple times\n",
        "Examples: lists, tuples, strings, dictionaries\n",
        "\n",
        "\n",
        "\n",
        "Iterators:\n",
        "\n",
        "Keep track of state during iteration\n",
        "Can only iterate once\n"
      ],
      "metadata": {
        "id": "wBha7jBfr16K"
      }
    },
    {
      "cell_type": "code",
      "source": [
        "# Iterable: Object that can be \"iterated over\"\n",
        "my_list = [1, 2, 3]  # List is an iterable\n",
        "\n",
        "# Iterator: Object that maintains state and returns values\n",
        "my_iterator = iter(my_list)  # Creating iterator from iterable\n",
        "\n",
        "# Using iterator\n",
        "print(next(my_iterator))  # 1\n",
        "print(next(my_iterator))  # 2\n",
        "print(next(my_iterator))  # 3\n",
        "# print(next(my_iterator))  # StopIteration error"
      ],
      "metadata": {
        "colab": {
          "base_uri": "https://localhost:8080/"
        },
        "id": "uKzRySA1sOWF",
        "outputId": "885cb602-4560-4a98-d669-8a057c8ba220"
      },
      "execution_count": 11,
      "outputs": [
        {
          "output_type": "stream",
          "name": "stdout",
          "text": [
            "1\n",
            "2\n",
            "3\n"
          ]
        }
      ]
    },
    {
      "cell_type": "markdown",
      "source": [
        "6. Explain the concept of generators in Python and how they are defined.\n",
        "\n",
        "Soln: A generator in Python is a special type of function that returns an iterator object where values are generated one at a time, rather than all at once. The key aspects that define a generator are:"
      ],
      "metadata": {
        "id": "IHHQ3n78c7i7"
      }
    },
    {
      "cell_type": "code",
      "source": [
        "# Regular Function (returns all at once)\n",
        "def regular_function():\n",
        "    return [1, 2, 3]\n",
        "\n",
        "# Generator Function (generates one at a time)\n",
        "def generator_function():\n",
        "    yield 1\n",
        "    yield 2\n",
        "    yield 3"
      ],
      "metadata": {
        "id": "PD3bH67ddA7r"
      },
      "execution_count": null,
      "outputs": []
    },
    {
      "cell_type": "markdown",
      "source": [
        "Key Characteristics:\n",
        "\n",
        "Uses yield keyword instead of return\n",
        "Maintains state between calls\n",
        "Generates values on-demand\n",
        "Memory efficient\n",
        "Can only iterate forward\n",
        "Automatically implements iterator protocol\n",
        "\n",
        "Think of a generator as a function that can pause and resume its execution. When called, it returns an iterator that can be used to get values one at a time, rather than computing and returning all values at once.\n",
        "Two ways to create generators:\n",
        "\n",
        "Generator Function (using yield):"
      ],
      "metadata": {
        "id": "TCjRtkfidLDD"
      }
    },
    {
      "cell_type": "code",
      "source": [
        "def countdown(n):\n",
        "    while n > 0:\n",
        "        yield n\n",
        "        n -= 1"
      ],
      "metadata": {
        "id": "lPSfcPybdN6m"
      },
      "execution_count": null,
      "outputs": []
    }
  ]
}