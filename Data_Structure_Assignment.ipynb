{
  "nbformat": 4,
  "nbformat_minor": 0,
  "metadata": {
    "colab": {
      "provenance": []
    },
    "kernelspec": {
      "name": "python3",
      "display_name": "Python 3"
    },
    "language_info": {
      "name": "python"
    }
  },
  "cells": [
    {
      "cell_type": "code",
      "execution_count": 4,
      "metadata": {
        "colab": {
          "base_uri": "https://localhost:8080/"
        },
        "id": "mMns11pi-jRI",
        "outputId": "4ac3f565-60a2-48df-96ed-3268f21a075e"
      },
      "outputs": [
        {
          "output_type": "stream",
          "name": "stdout",
          "text": [
            "kumar\n",
            "Vijay\n"
          ]
        }
      ],
      "source": [
        " # 1. Discuss String Slicing and provide examples.\n",
        "\n",
        " ''' Sol: String slicing means getting a sub string from a string using conditions which will take out the sub string from the string.\n",
        "     Suppose, we have a string name  as Vijaykumar and we need just kumar, then we will use the slice operator to take the substring from the given string.\n",
        "     '''\n",
        "  # Code:\n",
        "\n",
        "Name = \"Vijaykumar\"\n",
        "s = Name[5:]\n",
        "print(s)\n",
        "\n",
        "#if we just need Vijay from the above string, then we will use the below code\n",
        "\n",
        "v= Name[0:5]\n",
        "print(v)"
      ]
    },
    {
      "cell_type": "code",
      "source": [
        "# 2. Explain the key features of Lists in Python.\n",
        "''' The Key features of lists are:\n",
        "     a) Lists are ordered.\n",
        "     b) All the new items are added at the end of the list.\n",
        "     c) Lists are mutable i.e the value can be changed.\n",
        "     d) Lists are accessed via index and the index starts from 0 till len-1 when accessed from left to right and -1 till 0 when accessed from right to left.\n",
        "     e) Lists can contain redundant values i.e duplicate values.\n",
        "     f) List can have both String and int values within the same list.'''\n",
        "\n",
        "a = [1,5,6,9,20, \"Raihaan\"]\n",
        "print(a[3])\n",
        "print(a[5])"
      ],
      "metadata": {
        "colab": {
          "base_uri": "https://localhost:8080/"
        },
        "id": "myHMt_c8BYQr",
        "outputId": "6c17ddcf-5276-49f4-eed1-581707c82c50"
      },
      "execution_count": 8,
      "outputs": [
        {
          "output_type": "stream",
          "name": "stdout",
          "text": [
            "9\n",
            "Raihaan\n"
          ]
        }
      ]
    },
    {
      "cell_type": "code",
      "source": [
        "# 3. Describe how to access, modify and delete elements in a list with examples\n",
        "''' As we know that lists are mutable. Hence, we can add, remove and modify the list'''\n",
        "\n",
        "#Accessing the element in a list\n",
        "a = [4,76,27]\n",
        "c = a[0]\n",
        "print(c) #c will have the first element of list\n",
        "\n",
        "#Deleting the list\n",
        "\n",
        "a = [4,56,34,89]\n",
        "del a[0] #using del method we can delete the list\n",
        "print(a)\n",
        "\n",
        "#we can also delete the list using pop function\n",
        "\n",
        "a= [34,45,67,32,1]\n",
        "a.pop(2) #it will remove the third element from the list\n",
        "print(a)\n",
        "\n",
        "#Modifying the list - List can be modified i.e its value can be changed.\n",
        "\n",
        "a = [23,45,87,26,78,85,54]\n",
        "#if we want to change the value of a[2] from 87 to 40 then we can modify it.\n",
        "a[2]= 40 #now, the 3rd element will be 40 instead of 87\n",
        "print(a)"
      ],
      "metadata": {
        "colab": {
          "base_uri": "https://localhost:8080/"
        },
        "id": "MieZ1athC_Qn",
        "outputId": "ed0cc4a7-2b95-43e8-b505-ef95efb21f2d"
      },
      "execution_count": 13,
      "outputs": [
        {
          "output_type": "stream",
          "name": "stdout",
          "text": [
            "4\n",
            "[56, 34, 89]\n",
            "[34, 45, 32, 1]\n",
            "[23, 45, 40, 26, 78, 85, 54]\n"
          ]
        }
      ]
    },
    {
      "cell_type": "code",
      "source": [
        "# 4. Compare and contrast tuples and lists with examples\n",
        "'''\n",
        "Tuples are immutable whereas lists are mutable. Tuples and lists both supports indexing and slicing. Tuples requires less memory compared to lists hence, tuples are faster than lists.'''\n",
        "\n",
        "#Syntax\n",
        "\n",
        "tup = (1,2,3,4,5)\n",
        "li= [1,2,3,4,5]\n",
        "print(tup)\n",
        "print(li)\n"
      ],
      "metadata": {
        "colab": {
          "base_uri": "https://localhost:8080/"
        },
        "id": "rZU2aKFJGk7l",
        "outputId": "b82cb4e9-788e-4b4d-835d-ba815900683a"
      },
      "execution_count": 14,
      "outputs": [
        {
          "output_type": "stream",
          "name": "stdout",
          "text": [
            "(1, 2, 3, 4, 5)\n",
            "[1, 2, 3, 4, 5]\n"
          ]
        }
      ]
    },
    {
      "cell_type": "code",
      "source": [
        "# 5. Describe the key features of sets and provide an example of their use\n",
        "''' Sets are unordered collection of unique elements. All the duplicate elements are automatically removed. We can have empty sets and we can convert set from a list. We can do add, remove elements in a set.'''\n",
        "\n",
        "#Syntax\n",
        "\n",
        "a= {1,2,3,4}\n",
        "print(type(a))\n",
        "print(a)\n",
        "\n",
        "#Operations in set\n",
        "\n",
        "a= {1,2,2,4,5,6}\n",
        "print(a)\n",
        "a.add(7)\n",
        "print(a)\n",
        "a.add(\"Raihaan\") #adds the element\n",
        "print(a)\n",
        "a.remove('Raihaan') #removes the element\n",
        "print(a)\n",
        "\n",
        "# if we want to remove all the element then:\n",
        "\n",
        "a.clear()\n",
        "print(a)\n"
      ],
      "metadata": {
        "colab": {
          "base_uri": "https://localhost:8080/"
        },
        "id": "fquw_30mS7c9",
        "outputId": "1c29f8a6-a320-4b9d-ab8f-1fc1bfdb1751"
      },
      "execution_count": 23,
      "outputs": [
        {
          "output_type": "stream",
          "name": "stdout",
          "text": [
            "<class 'set'>\n",
            "{1, 2, 3, 4}\n",
            "{1, 2, 4, 5, 6}\n",
            "{1, 2, 4, 5, 6, 7}\n",
            "{1, 2, 4, 5, 6, 7, 'Raihaan'}\n",
            "{1, 2, 4, 5, 6, 7}\n",
            "set()\n"
          ]
        }
      ]
    },
    {
      "cell_type": "code",
      "source": [
        "# 6. Discuss the use case of Tuple and Sets in Python\n",
        "''' Use case of Tuple and Sets in Python\n",
        "Tuple: It is immutable which in turn ensures data integrity. It is faster and consumes less memory than lists.\n",
        "Use Case of tuple is that it can return multiple values from a function'''\n",
        "\n",
        "def get_user_details():\n",
        "    name = \"Raihaan\"\n",
        "    age = 25\n",
        "    email = \"raihaan@pwskills.com\"\n",
        "    return (name, age, email)\n",
        "\n",
        "# Unpacking the returned tuple\n",
        "name, age, email = get_user_details()\n",
        "\n",
        "print(\"Name:\", name)\n",
        "print(\"Age:\", age)\n",
        "print(\"Email:\", email)"
      ],
      "metadata": {
        "colab": {
          "base_uri": "https://localhost:8080/"
        },
        "id": "gRuYZ3btVuhK",
        "outputId": "c8282859-e566-428b-9d14-31b93324cb44"
      },
      "execution_count": 26,
      "outputs": [
        {
          "output_type": "stream",
          "name": "stdout",
          "text": [
            "Name: Raihaan\n",
            "Age: 25\n",
            "Email: raihaan@pwskills.com\n"
          ]
        }
      ]
    },
    {
      "cell_type": "code",
      "source": [
        "# 7. Describe how to add, modify and delete items in a dictionary with examples\n",
        "''' A dictionary is an unordered collection of key-value pairs. Each key must be unique and immutable. The value can be of any type. We can add, modify and delete the elements in a  dictionary.'''\n",
        "\n",
        "# Adding elements in a dictionary.\n",
        "\n",
        "my_dict = {'name': 'Raihaan', 'age': 25}\n",
        "my_dict['city'] = 'Mumbai'  #adding city in dictionary\n",
        "print(my_dict)\n",
        "\n",
        "#Modifying elements in dictionary\n",
        "\n",
        "my_dict = {'name': 'Raihaan', 'age': 25}\n",
        "my_dict['age'] = 26  #modifying the age\n",
        "print(my_dict)\n",
        "\n",
        "#Deleting items in dictionary\n",
        "\n",
        "my_dict = {'name': 'Raihaan', 'age': 25}\n",
        "del my_dict['age']  #deleting the age\n",
        "print(my_dict)"
      ],
      "metadata": {
        "colab": {
          "base_uri": "https://localhost:8080/"
        },
        "id": "M3UfLkGwoWhp",
        "outputId": "50c9ee7b-da09-49a4-8a7e-ff2092700c4b"
      },
      "execution_count": 3,
      "outputs": [
        {
          "output_type": "stream",
          "name": "stdout",
          "text": [
            "{'name': 'Raihaan', 'age': 25, 'city': 'Mumbai'}\n",
            "{'name': 'Raihaan', 'age': 26}\n",
            "{'name': 'Raihaan'}\n"
          ]
        }
      ]
    },
    {
      "cell_type": "code",
      "source": [
        "# 8. Discuss the importance of a dictionary keys being immutable and provide an example.\n",
        "\n",
        "# Hypothetical scenario to demonstrate why mutable keys would be problematic\n",
        "class DangerousDict:\n",
        "    def __init__(self):\n",
        "        self._data = {}\n",
        "\n",
        "    def set_item(self, key, value):\n",
        "        # Pretend we could use lists as keys\n",
        "        self._data[str(key)] = value\n",
        "\n",
        "dangerous_dict = DangerousDict()\n",
        "key = [1, 2, 3]\n",
        "dangerous_dict.set_item(key, \"value\")\n",
        "\n",
        "# If lists could be keys, this would be problematic:\n",
        "key.append(4)  # Modified after being used as a key\n",
        "# Now, how would we find our value? The key has changed!\n",
        "\n",
        "#Hence, the dictionary keys should be immutable so that the key can't be modified."
      ],
      "metadata": {
        "id": "L1S7BNFWxV_n"
      },
      "execution_count": null,
      "outputs": []
    }
  ]
}