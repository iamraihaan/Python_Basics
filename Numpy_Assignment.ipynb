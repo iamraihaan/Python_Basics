{
  "nbformat": 4,
  "nbformat_minor": 0,
  "metadata": {
    "colab": {
      "provenance": []
    },
    "kernelspec": {
      "name": "python3",
      "display_name": "Python 3"
    },
    "language_info": {
      "name": "python"
    }
  },
  "cells": [
    {
      "cell_type": "markdown",
      "source": [
        "1. Explain the purpose and advantages of NumPy in scientific computing and data analysis. How does it\n",
        "enhance Python's capabilities for numerical operations?\n",
        "\n",
        "Sol: NumPy (Numerical Python) is a fundamental library for scientific computing and data analysis in Python, specifically designed to perform efficient numerical computations on large data sets. It enhances Python's capabilities in several important ways:\n",
        "\n",
        "1. Efficient Multidimensional Arrays\n",
        "The core of NumPy is its ndarray (N-dimensional array) object, which allows for fast storage and manipulation of large, multidimensional arrays and matrices of numeric data.\n",
        "Unlike Python lists, which are general-purpose containers, ndarrays are homogeneously typed and optimized for numerical operations. This structure supports efficient storage and quick access, ideal for processing large datasets.\n",
        "\n",
        "NumPy enables vectorization, which allows users to apply operations directly on arrays rather than through Python loops. This approach not only simplifies code but also accelerates computation.\n",
        "For instance, adding two arrays element-wise in pure Python would require a loop, while in NumPy, a single command (array1 + array2) performs this operation more efficiently.\n",
        "3. Broadcasting\n",
        "Broadcasting in NumPy allows for operations on arrays of different shapes. NumPy automatically expands smaller arrays to match the dimensions of larger ones during arithmetic operations, making it easier to work with data without manually reshaping arrays.\n",
        "4. Mathematical and Statistical Functions\n",
        "NumPy provides a suite of built-in functions for a wide range of mathematical, statistical, and linear algebra operations. These include basic functions like mean(), sum(), and std(), as well as more complex ones like Fourier transforms and matrix factorizations."
      ],
      "metadata": {
        "id": "rMh8TvTQp1I6"
      }
    },
    {
      "cell_type": "markdown",
      "source": [
        "2. Compare and contrast np.mean() and np.average() functions in NumPy. When would you use one over the\n",
        "other?\n",
        "\n",
        "In NumPy, np.mean() and np.average() both compute the average of an array but differ in functionality:\n",
        "\n",
        "np.mean(): Calculates the arithmetic mean along a specified axis. It’s a straightforward, unweighted mean, commonly used when all values contribute equally.\n",
        "np.average(): Offers additional flexibility by allowing weights. Each element can be assigned a weight, making np.average() ideal when different data points carry varying significance.\n",
        "When to Use Each:\n",
        "\n",
        "Use np.mean() when all values are equally important.\n",
        "Use np.average() when you need a weighted mean to account for varying importance of values."
      ],
      "metadata": {
        "id": "MLFPmrvdqnSZ"
      }
    },
    {
      "cell_type": "markdown",
      "source": [
        "3. Describe the methods for reversing a NumPy array along different axes. Provide examples for 1D and 2D\n",
        "arrays\n",
        "\n",
        "Sol:\n",
        "\n",
        "For\n",
        "1D Array\n",
        "Slicing: arr[::-1] reverses the entire array"
      ],
      "metadata": {
        "id": "Nh5_MKNOq1nO"
      }
    },
    {
      "cell_type": "code",
      "source": [
        "import numpy as np\n",
        "arr = np.array([1, 2, 3, 4])\n",
        "reversed_arr = arr[::-1]  # Output: [4, 3, 2, 1]\n",
        "print(reversed_arr)"
      ],
      "metadata": {
        "colab": {
          "base_uri": "https://localhost:8080/"
        },
        "id": "Y2v0k1DUrJPV",
        "outputId": "7614de4c-5fd9-405d-d751-8948d3ac6ba7"
      },
      "execution_count": 2,
      "outputs": [
        {
          "output_type": "stream",
          "name": "stdout",
          "text": [
            "[4 3 2 1]\n"
          ]
        }
      ]
    },
    {
      "cell_type": "markdown",
      "source": [
        "For 2D array\n",
        "\n",
        "Slicing: arr[::-1, :] reverses rows, arr[:, ::-1] reverses columns."
      ],
      "metadata": {
        "id": "_pXdLQyYrn_W"
      }
    },
    {
      "cell_type": "code",
      "source": [
        "import numpy as np\n",
        "arr = np.array([[1, 2, 3], [4, 5, 6]])\n",
        "reversed_rows = arr[::-1, :]     # Output: [[4, 5, 6], [1, 2, 3]]\n",
        "reversed_columns = arr[:, ::-1]  # Output: [[3, 2, 1], [6, 5, 4]]\n"
      ],
      "metadata": {
        "id": "TK2SNTSurtkD"
      },
      "execution_count": 3,
      "outputs": []
    },
    {
      "cell_type": "markdown",
      "source": [
        "4. How can you determine the data type of elements in a NumPy array? Discuss the importance of data types\n",
        "in memory management and performance\n",
        "\n",
        "Sol:\n",
        "\n",
        ".dtype() is used to determine the data type of an element."
      ],
      "metadata": {
        "id": "vqnGeVSbr1gZ"
      }
    },
    {
      "cell_type": "code",
      "source": [
        "arr = np.array([1, 2, 3])\n",
        "print(arr.dtype)  # Output: dtype('int64')\n"
      ],
      "metadata": {
        "colab": {
          "base_uri": "https://localhost:8080/"
        },
        "id": "A_vMDquYtZA9",
        "outputId": "a7850562-046f-449b-a6c1-d5abbc5e2094"
      },
      "execution_count": 4,
      "outputs": [
        {
          "output_type": "stream",
          "name": "stdout",
          "text": [
            "int64\n"
          ]
        }
      ]
    },
    {
      "cell_type": "markdown",
      "source": [
        "Importance of Data Types\n",
        "Memory Management: Data types define the amount of memory each element occupies. For instance, int32 uses 4 bytes, while int64 uses 8 bytes, so choosing an appropriate type saves memory.\n",
        "Performance: Operations on smaller data types (e.g., int32 vs. int64) can be faster since they reduce memory access time and cache usage, enhancing overall computational efficiency.\n",
        "Selecting optimal data types improves both memory efficiency and processing speed in large-scale computations."
      ],
      "metadata": {
        "id": "6WsvLkShtieC"
      }
    },
    {
      "cell_type": "markdown",
      "source": [
        "5. Define ndarrays in NumPy and explain their key features. How do they differ from standard Python lists?\n",
        "\n",
        "Sol: In NumPy, ndarrays (N-dimensional arrays) are the core data structure for numerical data. They store elements in a grid of specified dimensions and data types, allowing for efficient computation on large data sets.\n",
        "\n",
        "Key Features\n",
        "Homogeneous: All elements have the same data type, making them more memory-efficient.\n",
        "Multidimensional: Support for N-dimensional data (e.g., 1D, 2D, 3D arrays).\n",
        "Vectorized Operations: Enable element-wise operations and broadcasting, which are faster than looping.\n",
        "Fixed Size: Memory is allocated for a fixed size, preventing resizing overhead.\n",
        "Differences from Python Lists\n",
        "Performance: ndarrays are faster and use less memory than Python lists due to homogeneity and contiguous memory storage.\n",
        "Functionalities: They offer advanced mathematical functions and broadcasting, whereas lists lack these optimized numerical features.\n",
        "These advantages make ndarrays ideal for scientific and data-heavy applications."
      ],
      "metadata": {
        "id": "L9r5RN76tkte"
      }
    },
    {
      "cell_type": "markdown",
      "source": [
        "6. Analyze the performance benefits of NumPy arrays over Python lists for large-scale numerical operations.\n",
        "\n",
        "Sol:\n",
        "NumPy arrays outperform Python lists in large-scale numerical operations due to:\n",
        "\n",
        "Contiguous Memory Storage: Arrays store elements in continuous memory blocks, reducing access times and enabling faster data processing.\n",
        "\n",
        "Homogeneous Data: All elements share the same data type, minimizing memory use and speeding up operations compared to heterogeneous Python lists.\n",
        "\n",
        "Vectorized Operations: NumPy’s element-wise operations eliminate Python loops, which makes computations more efficient and concise.\n",
        "\n",
        "Optimized C-based Backend: NumPy leverages low-level C and Fortran libraries for fast, optimized calculations, which Python lists lack.\n",
        "\n",
        "Overall, NumPy’s design significantly boosts performance in large-scale numerical tasks, making it ideal for data-intensive applications."
      ],
      "metadata": {
        "id": "IuXLhYySuI4C"
      }
    },
    {
      "cell_type": "markdown",
      "source": [
        "7. Compare vstack() and hstack() functions in NumPy. Provide examples demonstrating their usage and\n",
        "output.\n",
        "\n",
        "Sol: Vstack stack arrays vertically whereas Hstack stacks array horizontally."
      ],
      "metadata": {
        "id": "6G5W7vLkueMP"
      }
    },
    {
      "cell_type": "code",
      "source": [
        "#Vstack\n",
        "\n",
        "a = np.array([1, 2, 3])\n",
        "b = np.array([4, 5, 6])\n",
        "result = np.vstack((a, b))\n",
        "print(result)\n",
        "# Output: [[1, 2, 3],\n",
        "#          [4, 5, 6]]\n"
      ],
      "metadata": {
        "colab": {
          "base_uri": "https://localhost:8080/"
        },
        "id": "ZbOKG0hNx69F",
        "outputId": "c4a3520a-c7b2-4a7f-9383-3f973418fbfb"
      },
      "execution_count": 7,
      "outputs": [
        {
          "output_type": "stream",
          "name": "stdout",
          "text": [
            "[[1 2 3]\n",
            " [4 5 6]]\n"
          ]
        }
      ]
    },
    {
      "cell_type": "code",
      "source": [
        "#Hstack\n",
        "a = np.array([1, 2, 3])\n",
        "b = np.array([4, 5, 6])\n",
        "result = np.hstack((a, b))\n",
        "print(result)\n"
      ],
      "metadata": {
        "colab": {
          "base_uri": "https://localhost:8080/"
        },
        "id": "NZNLG4KNx9kC",
        "outputId": "75c4a9f3-5298-4a06-f7ad-66ad0d2484b2"
      },
      "execution_count": 6,
      "outputs": [
        {
          "output_type": "stream",
          "name": "stdout",
          "text": [
            "[1 2 3 4 5 6]\n"
          ]
        }
      ]
    },
    {
      "cell_type": "markdown",
      "source": [
        "8. Explain the differences between fliplr() and flipud() methods in NumPy, including their effects on various\n",
        "array dimensions.\n",
        "\n",
        "fliplr(): Flips an array left to right (reverses columns). Works on 2D or higher arrays, affecting only the horizontal axis.\n",
        "\n",
        "flipud(): Flips an array upside down (reverses rows). It affects the vertical axis in 2D or higher arrays."
      ],
      "metadata": {
        "id": "LPdM6QnDy4S0"
      }
    },
    {
      "cell_type": "code",
      "source": [
        "#Example of fliplr()\n",
        "\n",
        "arr = np.array([[1, 2], [3, 4]])\n",
        "result = np.fliplr(arr)\n",
        "print(result)\n",
        "# Output: [[2, 1],\n",
        "#          [4, 3]]\n",
        "\n",
        "print(\"Example of flipud()\")\n",
        "\n",
        "arr = np.array([[1, 2], [3, 4]])\n",
        "result = np.flipud(arr)\n",
        "# Output: [[3, 4],\n",
        "#          [1, 2]]\n",
        "print(result)"
      ],
      "metadata": {
        "colab": {
          "base_uri": "https://localhost:8080/"
        },
        "id": "2VYYaJkRznuW",
        "outputId": "1112fcb5-adc8-4096-ed30-a4daa55a7722"
      },
      "execution_count": 9,
      "outputs": [
        {
          "output_type": "stream",
          "name": "stdout",
          "text": [
            "[[2 1]\n",
            " [4 3]]\n",
            "Example of flipud()\n",
            "[[3 4]\n",
            " [1 2]]\n"
          ]
        }
      ]
    },
    {
      "cell_type": "markdown",
      "source": [
        "9. Discuss the functionality of the array_split() method in NumPy. How does it handle uneven splits?\n",
        "\n",
        "The array_split() method in NumPy divides an array into multiple sub-arrays along a specified axis.\n",
        "\n",
        "\n",
        "Functionality: Syntax is numpy.array_split(ary, indices_or_sections, axis=0), allowing you to specify the number of sections or indices.\n",
        "Uneven Splits: If the array size isn't evenly divisible by the number of sections, it distributes the elements as evenly as possible, with some sub-arrays containing one more element than others\n",
        "\n"
      ],
      "metadata": {
        "id": "ukl8y-oS0Edy"
      }
    },
    {
      "cell_type": "code",
      "source": [
        "arr = np.array([1, 2, 3, 4, 5, 6, 7, 8, 9, 10])\n",
        "result = np.array_split(arr, 3)\n",
        "# Output: [array([1, 2, 3, 4]), array([5, 6, 7]), array([8, 9, 10])]\n",
        "print(result)"
      ],
      "metadata": {
        "colab": {
          "base_uri": "https://localhost:8080/"
        },
        "id": "clH5bdu90UDw",
        "outputId": "24ef8003-20d1-4eca-83ea-16d5bbfe8e72"
      },
      "execution_count": 10,
      "outputs": [
        {
          "output_type": "stream",
          "name": "stdout",
          "text": [
            "[array([1, 2, 3, 4]), array([5, 6, 7]), array([ 8,  9, 10])]\n"
          ]
        }
      ]
    },
    {
      "cell_type": "markdown",
      "source": [
        "10. Explain the concepts of vectorization and broadcasting in NumPy. How do they contribute to efficient array\n",
        "operations?\n",
        "\n",
        "Sol: Vectorization and broadcasting are key concepts in NumPy that enhance the efficiency of array operations:\n",
        "\n",
        "Vectorization\n",
        "Definition: Vectorization refers to the process of applying operations on entire arrays instead of individual elements. This is achieved using NumPy’s built-in functions, which operate at the C level.\n",
        "Benefits: It eliminates the need for explicit loops in Python, leading to cleaner code and significantly faster execution times.\n",
        "Broadcasting\n",
        "Definition: Broadcasting allows NumPy to perform arithmetic operations on arrays of different shapes by automatically expanding the smaller array to match the shape of the larger array.\n",
        "Benefits: It enables seamless operations without manually reshaping arrays, making it easier to handle mathematical computations involving differing dimensions.\n",
        "Contribution to Efficiency\n",
        "Both concepts reduce the computational overhead associated with looping and manual alignment of arrays, resulting in faster execution and optimized memory usage. This leads to more concise and readable code, especially when working with large datasets in scientific computing and data analysis."
      ],
      "metadata": {
        "id": "GNPmqQt50bdM"
      }
    }
  ]
}