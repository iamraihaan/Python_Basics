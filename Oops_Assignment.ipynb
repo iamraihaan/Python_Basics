{
  "nbformat": 4,
  "nbformat_minor": 0,
  "metadata": {
    "colab": {
      "provenance": []
    },
    "kernelspec": {
      "name": "python3",
      "display_name": "Python 3"
    },
    "language_info": {
      "name": "python"
    }
  },
  "cells": [
    {
      "cell_type": "markdown",
      "source": [
        "1. What are the five key concepts of Object-Oriented Programming (OOP)?\n",
        "\n",
        "Soln: The Five Key Concepts of Object Oriented Programming are:\n",
        "\n",
        "a. Encapsulation: Wrapping up of Data and Method in a same class.\n",
        "\n",
        "b. Polymorphism: Polymorphism means many forms. Its basically the ability of an object to take multiple forms. Example: Method Overloading and Method Overriding.\n",
        "\n",
        "c. Inheritance: The process of inheriting all the properties from the parent class to child class is known as inheritance.\n",
        "\n",
        "d. Abstraction: The process of showing just the implementation details. Implemented through abstract and interface.\n",
        "\n",
        "e. Objects: Objects are nothing but an instance of a class. We all are objects of class Human being. Objects represents real world entities in code.\n",
        "\n"
      ],
      "metadata": {
        "id": "jKU6gozrwxUG"
      }
    },
    {
      "cell_type": "markdown",
      "source": [
        "2. Write a Python class for a `Car` with attributes for `make`, `model`, and `year`. Include a method to display\n",
        "the car's information."
      ],
      "metadata": {
        "id": "K3bJo34pyWWh"
      }
    },
    {
      "cell_type": "code",
      "source": [
        "class Car:\n",
        "  def __init__(self, make, model, year):\n",
        "    self.make = make\n",
        "    self.model = model\n",
        "    self.year = year\n",
        "\n",
        "  def display_info(self):\n",
        "      print(f\"Make: {self.make}\\nModel: {self.model}\\nYear: {self.year}\")\n",
        "\n",
        "C1 = Car(\"Maruti Suzuki\", \"WagonR\", 1980) #creating object and also sending the parameters as init method will be running as soon as object gets created.\n",
        "C1.display_info()\n"
      ],
      "metadata": {
        "colab": {
          "base_uri": "https://localhost:8080/"
        },
        "id": "chdR2Ho3ybwl",
        "outputId": "bc0d1aba-9179-49f4-9389-db52a5868056"
      },
      "execution_count": 6,
      "outputs": [
        {
          "output_type": "stream",
          "name": "stdout",
          "text": [
            "Make: Maruti Suzuki\n",
            "Model: WagonR\n",
            "Year: 1980\n"
          ]
        }
      ]
    },
    {
      "cell_type": "markdown",
      "source": [
        "3. Explain the difference between instance methods and class methods. Provide an example of each.\n",
        "\n",
        "Sol: Instance Methods:\n",
        "\n",
        "Take self as first parameter\n",
        "\n",
        "Can access/modify instance data (object's attributes)\n",
        "\n",
        "Can access/modify class data\n",
        "\n",
        "Called on instances of the class\n",
        "\n",
        "\n",
        "\n",
        "Class Methods:\n",
        "\n",
        "Use @classmethod decorator\n",
        "\n",
        "Take cls as first parameter\n",
        "\n",
        "Can access/modify class data (shared across all instances)\n",
        "\n",
        "Cannot access instance data directly\n",
        "\n",
        "Can be called on either the class or instance"
      ],
      "metadata": {
        "id": "jFgPXpv40OdW"
      }
    },
    {
      "cell_type": "markdown",
      "source": [
        "4. How does Python implement method overloading? Give an example.\n",
        "\n",
        "Sol: Python doesn't support traditional method overloading like Java or C++, but we can achieve similar functionality in several ways:\n",
        "\n",
        "Using default parameter:\n"
      ],
      "metadata": {
        "id": "4B7vAs-r0eRK"
      }
    },
    {
      "cell_type": "code",
      "source": [
        "class Calculator:\n",
        "    def add(self, a, b=0, c=0):\n",
        "        return a + b + c\n",
        "\n",
        "# Different ways to call the same method\n",
        "calc = Calculator()\n",
        "print(calc.add(5))          # Output: 5  (b and c use default 0)\n",
        "print(calc.add(5, 3))       # Output: 8  (c uses default 0)\n",
        "print(calc.add(5, 3, 2))    # Output: 10 (using all parameters)"
      ],
      "metadata": {
        "colab": {
          "base_uri": "https://localhost:8080/"
        },
        "id": "CxWWxyTU2MyU",
        "outputId": "7006068e-eb94-443c-db01-aa731c2c01ae"
      },
      "execution_count": 7,
      "outputs": [
        {
          "output_type": "stream",
          "name": "stdout",
          "text": [
            "5\n",
            "8\n",
            "10\n"
          ]
        }
      ]
    },
    {
      "cell_type": "markdown",
      "source": [
        "Using Args function:"
      ],
      "metadata": {
        "id": "gXzveAsg2T_q"
      }
    },
    {
      "cell_type": "code",
      "source": [
        "class Calculator:\n",
        "    def add(self, *args):\n",
        "        return sum(args)\n",
        "\n",
        "calc = Calculator()\n",
        "print(calc.add(1))              # Output: 1\n",
        "print(calc.add(1, 2))           # Output: 3\n",
        "print(calc.add(1, 2, 3, 4))     # Output: 10"
      ],
      "metadata": {
        "colab": {
          "base_uri": "https://localhost:8080/"
        },
        "id": "NXZ-2ktW2XMh",
        "outputId": "152d7d52-a0ad-4a47-c688-a9a47e9fb3bf"
      },
      "execution_count": 8,
      "outputs": [
        {
          "output_type": "stream",
          "name": "stdout",
          "text": [
            "1\n",
            "3\n",
            "10\n"
          ]
        }
      ]
    },
    {
      "cell_type": "markdown",
      "source": [
        "5. What are the three types of access modifiers in Python? How are they denoted?\n",
        "\n",
        "Sol: There are three types of access modifiers in Python:\n",
        "\n",
        "a. Public: Publicly accessible"
      ],
      "metadata": {
        "id": "AkK_UJ0T2afE"
      }
    },
    {
      "cell_type": "code",
      "source": [
        "class Employee:\n",
        "    def __init__(self):\n",
        "        self.name = \"Alice\"      # Public attribute\n",
        "\n",
        "    def work(self):             # Public method\n",
        "        return \"Working\"\n",
        "\n",
        "emp = Employee()\n",
        "print(emp.name)                 # Directly accessible\n",
        "print(emp.work())               # Directly accessible"
      ],
      "metadata": {
        "colab": {
          "base_uri": "https://localhost:8080/"
        },
        "id": "ibtU9HgE25gf",
        "outputId": "5336728b-974c-49c1-ade9-88237216c72f"
      },
      "execution_count": 9,
      "outputs": [
        {
          "output_type": "stream",
          "name": "stdout",
          "text": [
            "Alice\n",
            "Working\n"
          ]
        }
      ]
    },
    {
      "cell_type": "markdown",
      "source": [
        "b. Private: Private can't be accessed directly. It is accessible through public method. It is denoted by double __ (double underscore)\n"
      ],
      "metadata": {
        "id": "XCky8dVG3CT_"
      }
    },
    {
      "cell_type": "code",
      "source": [
        "class Employee:\n",
        "    def __init__(self):\n",
        "        self.__id = 12345       # Private attribute\n",
        "\n",
        "    def __update_id(self):      # Private method\n",
        "        self.__id += 1\n",
        "\n",
        "    def get_id(self):           # Public method to access private attribute\n",
        "        return self.__id\n",
        "\n",
        "emp = Employee()\n",
        "# print(emp.__id)               # Error: can't access directly\n",
        "print(emp.get_id())             # Accessible through public method\n",
        "# Actually stored as _Employee__id (name mangling)\n",
        "print(emp._Employee__id)        # Still technically accessible"
      ],
      "metadata": {
        "colab": {
          "base_uri": "https://localhost:8080/"
        },
        "id": "p8D5cg5Y3SDE",
        "outputId": "c750e946-9d94-4605-b145-b3a65b698086"
      },
      "execution_count": 10,
      "outputs": [
        {
          "output_type": "stream",
          "name": "stdout",
          "text": [
            "12345\n",
            "12345\n"
          ]
        }
      ]
    },
    {
      "cell_type": "markdown",
      "source": [
        "c. Protected: Can be accessed directly also but its discouraged. Denoted by single _ (underscore)"
      ],
      "metadata": {
        "id": "DRU4oQ_H3ZbS"
      }
    },
    {
      "cell_type": "code",
      "source": [
        "class Employee:\n",
        "    def __init__(self):\n",
        "        self._salary = 50000    # Protected attribute\n",
        "\n",
        "    def _calculate_bonus(self):  # Protected method\n",
        "        return self._salary * 0.1\n",
        "\n",
        "# Still accessible but indicates \"internal use\" by convention\n",
        "emp = Employee()\n",
        "print(emp._salary)              # Accessible but discouraged"
      ],
      "metadata": {
        "colab": {
          "base_uri": "https://localhost:8080/"
        },
        "id": "RVUof2QL3sL5",
        "outputId": "14c09221-bcea-42e0-9590-e3984d61e8d4"
      },
      "execution_count": 11,
      "outputs": [
        {
          "output_type": "stream",
          "name": "stdout",
          "text": [
            "50000\n"
          ]
        }
      ]
    },
    {
      "cell_type": "markdown",
      "source": [
        "6. Describe the five types of inheritance in Python. Provide a simple example of multiple inheritance.\n",
        "\n",
        "sol: Five types of inheritance are listed below:\n",
        "\n",
        " Single Inheritance:\n",
        "\n",
        "\n",
        "One class inherits from one base class.\n",
        "Most basic form of inheritance\n",
        "\n",
        "\n",
        "Multiple Inheritance:\n",
        "\n",
        "\n",
        "One class inherits from multiple base classes.\n",
        "Supports features from all parent classes\n",
        "\n",
        "\n",
        "Multilevel Inheritance:\n",
        "\n",
        "\n",
        "Chain of inheritance (A → B → C)\n",
        "Each class inherits from one parent\n",
        "\n",
        "\n",
        "Hierarchical Inheritance:\n",
        "\n",
        "\n",
        "Multiple classes inherit from one base class.\n",
        "Forms a tree-like structure\n",
        "\n",
        "\n",
        "Hybrid Inheritance:\n",
        "\n",
        "\n",
        "Combination of multiple inheritance types.\n",
        "Can create complex inheritance patterns"
      ],
      "metadata": {
        "id": "TGPnALaD3v5w"
      }
    },
    {
      "cell_type": "code",
      "source": [
        "#Multiple Inheritance Example: Here we see that Laptop Class is inheriting the property from multiple base class, Device and Portable class.\n",
        "\n",
        "class Device:\n",
        "    def __init__(self, brand):\n",
        "        self.brand = brand\n",
        "\n",
        "    def power_on(self):\n",
        "        return \"Device powered on\"\n",
        "\n",
        "class Portable:\n",
        "    def __init__(self, battery_life):\n",
        "        self.battery_life = battery_life\n",
        "\n",
        "    def check_battery(self):\n",
        "        return f\"Battery life: {self.battery_life}h\"\n",
        "\n",
        "class Laptop(Device, Portable):\n",
        "    def __init__(self, brand, battery_life, model):\n",
        "        Device.__init__(self, brand)\n",
        "        Portable.__init__(self, battery_life)\n",
        "        self.model = model\n",
        "\n",
        "    def display_info(self):\n",
        "        return f\"{self.brand} {self.model} with {self.battery_life}h battery\"\n",
        "\n",
        "# Using the laptop class\n",
        "my_laptop = Laptop(\"Dell\", 8, \"XPS\")\n",
        "print(my_laptop.display_info())  # Output: Dell XPS with 8h battery\n",
        "print(my_laptop.power_on())      # From Device class\n",
        "print(my_laptop.check_battery()) # From Portable class"
      ],
      "metadata": {
        "colab": {
          "base_uri": "https://localhost:8080/"
        },
        "id": "xSFV6By84Ngr",
        "outputId": "5ac12b9e-4590-42cd-e8aa-d75157f4c46c"
      },
      "execution_count": 12,
      "outputs": [
        {
          "output_type": "stream",
          "name": "stdout",
          "text": [
            "Dell XPS with 8h battery\n",
            "Device powered on\n",
            "Battery life: 8h\n"
          ]
        }
      ]
    },
    {
      "cell_type": "markdown",
      "source": [
        "7. What is the Method Resolution Order (MRO) in Python? How can you retrieve it programmatically?\n",
        "\n",
        "Sol: Method Resolution Order (MRO) is the sequence Python follows to determine which method or attribute to use when dealing with inheritance, especially multiple inheritance. Here's a detailed explanation with examples:"
      ],
      "metadata": {
        "id": "UsD0F0Qb4yt1"
      }
    },
    {
      "cell_type": "code",
      "source": [
        "# Example to demonstrate MRO\n",
        "class A:\n",
        "    def method(self):\n",
        "        return \"A method\"\n",
        "\n",
        "class B(A):\n",
        "    def method(self):\n",
        "        return \"B method\"\n",
        "\n",
        "class C(A):\n",
        "    def method(self):\n",
        "        return \"C method\"\n",
        "\n",
        "class D(B, C):\n",
        "    pass\n",
        "\n",
        "# Ways to view MRO:\n",
        "# 1. Using __mro__ attribute\n",
        "print(D.__mro__)\n",
        "# Output: (<class '__main__.D'>, <class '__main__.B'>,\n",
        "#          <class '__main__.C'>, <class '__main__.A'>, <class 'object'>)\n",
        "\n",
        "# 2. Using mro() method\n",
        "print(D.mro())    # Same output as above\n",
        "\n",
        "# 3. Using help() function\n",
        "help(D)  # Shows detailed MRO information"
      ],
      "metadata": {
        "id": "RiP7fIZ54885"
      },
      "execution_count": null,
      "outputs": []
    },
    {
      "cell_type": "markdown",
      "source": [
        "8. Create an abstract base class `Shape` with an abstract method `area()`. Then create two subclasses\n",
        "`Circle` and `Rectangle` that implement the `area()` method."
      ],
      "metadata": {
        "id": "93E_ZbqY5DR8"
      }
    },
    {
      "cell_type": "code",
      "source": [
        "from abc import ABC, abstractmethod\n",
        "import math\n",
        "\n",
        "# Abstract base class\n",
        "class Shape(ABC):\n",
        "    @abstractmethod\n",
        "    def area(self):\n",
        "        pass\n",
        "\n",
        "# Circle implementation\n",
        "class Circle(Shape):\n",
        "    def __init__(self, radius):\n",
        "        self.radius = radius\n",
        "\n",
        "    def area(self):\n",
        "        return math.pi * self.radius ** 2\n",
        "\n",
        "# Rectangle implementation\n",
        "class Rectangle(Shape):\n",
        "    def __init__(self, length, width):\n",
        "        self.length = length\n",
        "        self.width = width\n",
        "\n",
        "    def area(self):\n",
        "        return self.length * self.width\n",
        "\n",
        "# Example usage\n",
        "circle = Circle(5)\n",
        "print(f\"Circle area: {circle.area():.2f}\")  # Output: Circle area: 78.54\n",
        "\n",
        "rectangle = Rectangle(4, 6)\n",
        "print(f\"Rectangle area: {rectangle.area()}\")  # Output: Rectangle area: 24\n",
        "\n",
        "# This would raise an error - can't instantiate abstract class\n",
        "# shape = Shape()  # TypeError\n",
        "\n",
        "# We can also create a list of shapes and calculate their areas\n",
        "shapes = [Circle(3), Rectangle(2, 4), Circle(5)]\n",
        "for shape in shapes:\n",
        "    print(f\"Area: {shape.area():.2f}\")"
      ],
      "metadata": {
        "colab": {
          "base_uri": "https://localhost:8080/"
        },
        "id": "yJrnWqk65IR4",
        "outputId": "7fc3771e-db5e-4849-93b2-754a8cd18f8c"
      },
      "execution_count": 14,
      "outputs": [
        {
          "output_type": "stream",
          "name": "stdout",
          "text": [
            "Circle area: 78.54\n",
            "Rectangle area: 24\n",
            "Area: 28.27\n",
            "Area: 8.00\n",
            "Area: 78.54\n"
          ]
        }
      ]
    },
    {
      "cell_type": "markdown",
      "source": [
        "9. Demonstrate polymorphism by creating a function that can work with different shape objects to calculate\n",
        "and print their areas.\n",
        "\n",
        "Sol: Below is the demonstration of Polymorphism:"
      ],
      "metadata": {
        "id": "Uljl4BQ25QYO"
      }
    },
    {
      "cell_type": "code",
      "source": [
        "from abc import ABC, abstractmethod\n",
        "import math\n",
        "\n",
        "# Abstract base class\n",
        "class Shape(ABC):\n",
        "    @abstractmethod\n",
        "    def area(self):\n",
        "        pass\n",
        "\n",
        "    @abstractmethod\n",
        "    def display_info(self):\n",
        "        pass\n",
        "\n",
        "# Circle implementation\n",
        "class Circle(Shape):\n",
        "    def __init__(self, radius):\n",
        "        self.radius = radius\n",
        "\n",
        "    def area(self):\n",
        "        return math.pi * self.radius ** 2\n",
        "\n",
        "    def display_info(self):\n",
        "        return f\"Circle with radius {self.radius}\"\n",
        "\n",
        "# Rectangle implementation\n",
        "class Rectangle(Shape):\n",
        "    def __init__(self, length, width):\n",
        "        self.length = length\n",
        "        self.width = width\n",
        "\n",
        "    def area(self):\n",
        "        return self.length * self.width\n",
        "\n",
        "    def display_info(self):\n",
        "        return f\"Rectangle with length {self.length} and width {self.width}\"\n",
        "\n",
        "# Triangle implementation\n",
        "class Triangle(Shape):\n",
        "    def __init__(self, base, height):\n",
        "        self.base = base\n",
        "        self.height = height\n",
        "\n",
        "    def area(self):\n",
        "        return 0.5 * self.base * self.height\n",
        "\n",
        "    def display_info(self):\n",
        "        return f\"Triangle with base {self.base} and height {self.height}\"\n",
        "\n",
        "# Polymorphic functions\n",
        "def print_area(shape):\n",
        "    \"\"\"Calculates and prints area for any shape\"\"\"\n",
        "    print(f\"{shape.display_info()} has area: {shape.area():.2f}\")\n",
        "\n",
        "def calculate_total_area(shapes):\n",
        "    \"\"\"Calculates total area of multiple shapes\"\"\"\n",
        "    return sum(shape.area() for shape in shapes)\n",
        "\n",
        "# Example usage\n",
        "shapes = [\n",
        "    Circle(5),\n",
        "    Rectangle(4, 6),\n",
        "    Triangle(3, 8),\n",
        "    Circle(3)\n",
        "]\n",
        "\n",
        "# Using polymorphic functions\n",
        "print(\"Individual shape areas:\")\n",
        "for shape in shapes:\n",
        "    print_area(shape)\n",
        "\n",
        "total_area = calculate_total_area(shapes)\n",
        "print(f\"\\nTotal area of all shapes: {total_area:.2f}\")\n",
        "\n",
        "# We can easily add new shapes without modifying the functions\n",
        "# Example with list comprehension\n",
        "circles_area = calculate_total_area([shape for shape in shapes if isinstance(shape, Circle)])\n",
        "print(f\"Total area of circles only: {circles_area:.2f}\")"
      ],
      "metadata": {
        "colab": {
          "base_uri": "https://localhost:8080/"
        },
        "id": "ZDAJqD_q5gPk",
        "outputId": "7ca141b1-496c-4d8d-80d3-4453e5a584a3"
      },
      "execution_count": 15,
      "outputs": [
        {
          "output_type": "stream",
          "name": "stdout",
          "text": [
            "Individual shape areas:\n",
            "Circle with radius 5 has area: 78.54\n",
            "Rectangle with length 4 and width 6 has area: 24.00\n",
            "Triangle with base 3 and height 8 has area: 12.00\n",
            "Circle with radius 3 has area: 28.27\n",
            "\n",
            "Total area of all shapes: 142.81\n",
            "Total area of circles only: 106.81\n"
          ]
        }
      ]
    },
    {
      "cell_type": "markdown",
      "source": [
        "10. Implement encapsulation in a `BankAccount` class with private attributes for `balance` and\n",
        "`account_number`. Include methods for deposit, withdrawal, and balance inquiry."
      ],
      "metadata": {
        "id": "wV60JaNW5kOA"
      }
    },
    {
      "cell_type": "code",
      "source": [
        "class BankAccount:\n",
        "    def __init__(self, account_number, initial_balance=0):\n",
        "        self.__account_number = account_number  # Private attribute\n",
        "        self.__balance = initial_balance        # Private attribute\n",
        "        self.__transaction_history = []         # Private attribute for tracking\n",
        "\n",
        "    def deposit(self, amount):\n",
        "        \"\"\"Method to deposit money\"\"\"\n",
        "        if amount > 0:\n",
        "            self.__balance += amount\n",
        "            self.__log_transaction(\"deposit\", amount)\n",
        "            return f\"Deposited ${amount:.2f}. New balance: ${self.__balance:.2f}\"\n",
        "        else:\n",
        "            return \"Invalid deposit amount\"\n",
        "\n",
        "    def withdraw(self, amount):\n",
        "        \"\"\"Method to withdraw money\"\"\"\n",
        "        if amount > 0 and amount <= self.__balance:\n",
        "            self.__balance -= amount\n",
        "            self.__log_transaction(\"withdrawal\", amount)\n",
        "            return f\"Withdrew ${amount:.2f}. New balance: ${self.__balance:.2f}\"\n",
        "        elif amount > self.__balance:\n",
        "            return \"Insufficient funds\"\n",
        "        else:\n",
        "            return \"Invalid withdrawal amount\"\n",
        "\n",
        "    def get_balance(self):\n",
        "        \"\"\"Method to check balance\"\"\"\n",
        "        return f\"Current balance: ${self.__balance:.2f}\"\n",
        "\n",
        "    def get_account_info(self):\n",
        "        \"\"\"Method to get account information\"\"\"\n",
        "        return f\"Account: ...{str(self.__account_number)[-4:]}\"\n",
        "\n",
        "    def __log_transaction(self, transaction_type, amount):\n",
        "        \"\"\"Private method to log transactions\"\"\"\n",
        "        self.__transaction_history.append({\n",
        "            'type': transaction_type,\n",
        "            'amount': amount,\n",
        "            'balance': self.__balance\n",
        "        })\n",
        "\n",
        "    def get_transaction_history(self):\n",
        "        \"\"\"Method to view transaction history\"\"\"\n",
        "        return self.__transaction_history.copy()  # Return copy to prevent modification\n",
        "\n",
        "# Example usage\n",
        "account = BankAccount(\"1234567890\", 1000)\n",
        "\n",
        "# Accessing public methods\n",
        "print(account.get_account_info())  # Shows last 4 digits only\n",
        "print(account.get_balance())\n",
        "print(account.deposit(500))\n",
        "print(account.withdraw(200))\n",
        "print(account.get_balance())\n",
        "\n",
        "# These won't work (demonstrating encapsulation):\n",
        "# print(account.__balance)         # AttributeError\n",
        "# print(account.__account_number)  # AttributeError\n",
        "# account.__log_transaction()      # AttributeError\n",
        "\n",
        "# Example transactions\n",
        "transactions = [\n",
        "    (\"deposit\", 1000),\n",
        "    (\"withdraw\", 500),\n",
        "    (\"deposit\", 300),\n",
        "    (\"withdraw\", 2000)  # Should fail\n",
        "]\n",
        "\n",
        "print(\"\\nProcessing multiple transactions:\")\n",
        "for transaction_type, amount in transactions:\n",
        "    if transaction_type == \"deposit\":\n",
        "        print(account.deposit(amount))\n",
        "    else:\n",
        "        print(account.withdraw(amount))\n",
        "\n",
        "# View transaction history\n",
        "print(\"\\nTransaction History:\")\n",
        "for transaction in account.get_transaction_history():\n",
        "    print(f\"{transaction['type'].capitalize()}: ${transaction['amount']:.2f} \"\n",
        "          f\"(Balance: ${transaction['balance']:.2f})\")"
      ],
      "metadata": {
        "id": "Ihe7M-eW5wLX"
      },
      "execution_count": null,
      "outputs": []
    },
    {
      "cell_type": "markdown",
      "source": [
        "11. Write a class that overrides the `__str__` and `__add__` magic methods. What will these methods allow\n",
        "you to do?"
      ],
      "metadata": {
        "id": "hpSNSld0mu-o"
      }
    },
    {
      "cell_type": "code",
      "source": [
        "class Book:\n",
        "    def __init__(self, title, author, pages):\n",
        "        self.title = title\n",
        "        self.author = author\n",
        "        self.pages = pages\n",
        "\n",
        "    # Override string representation\n",
        "    def __str__(self):\n",
        "        \"\"\"Controls how the object is printed with str() or print()\"\"\"\n",
        "        return f\"{self.title} by {self.author} ({self.pages} pages)\"\n",
        "\n",
        "    # Override representation\n",
        "    def __repr__(self):\n",
        "        \"\"\"Controls developer-friendly string representation\"\"\"\n",
        "        return f\"Book(title='{self.title}', author='{self.author}', pages={self.pages})\"\n",
        "\n",
        "    # Override addition\n",
        "    def __add__(self, other):\n",
        "        \"\"\"Allows adding two books to create a collection with combined pages\"\"\"\n",
        "        if isinstance(other, Book):\n",
        "            new_title = f\"Collection: {self.title} & {other.title}\"\n",
        "            new_author = f\"{self.author}, {other.author}\"\n",
        "            total_pages = self.pages + other.pages\n",
        "            return Book(new_title, new_author, total_pages)\n",
        "        else:\n",
        "            raise TypeError(\"Can only add two Book objects together\")\n",
        "\n",
        "# Example usage\n",
        "book1 = Book(\"Python Basics\", \"John Smith\", 200)\n",
        "book2 = Book(\"Advanced Python\", \"Jane Doe\", 300)\n",
        "\n",
        "# Using __str__\n",
        "print(book1)  # Output: Python Basics by John Smith (200 pages)\n",
        "\n",
        "# Using __repr__\n",
        "print(repr(book1))  # Output: Book(title='Python Basics', author='John Smith', pages=200)\n",
        "\n",
        "# Using __add__\n",
        "combined_book = book1 + book2\n",
        "print(combined_book)  # Output: Collection: Python Basics & Advanced Python by John Smith, Jane Doe (500 pages)\n",
        "\n",
        "# Error handling\n",
        "try:\n",
        "    invalid = book1 + \"Not a book\"\n",
        "except TypeError as e:\n",
        "    print(e)  # Output: Can only add two Book objects together"
      ],
      "metadata": {
        "id": "ei_RoRCPm5nP"
      },
      "execution_count": null,
      "outputs": []
    },
    {
      "cell_type": "markdown",
      "source": [
        "12. Create a decorator that measures and prints the execution time of a function."
      ],
      "metadata": {
        "id": "SJ88tJP3nBcG"
      }
    },
    {
      "cell_type": "code",
      "source": [
        "import time\n",
        "import functools\n",
        "\n",
        "def measure_time(func):\n",
        "    @functools.wraps(func)  # Preserves function metadata\n",
        "    def wrapper(*args, **kwargs):\n",
        "        # Record start time\n",
        "        start_time = time.time()\n",
        "\n",
        "        # Execute the function\n",
        "        result = func(*args, **kwargs)\n",
        "\n",
        "        # Record end time\n",
        "        end_time = time.time()\n",
        "\n",
        "        # Calculate and print execution time\n",
        "        execution_time = end_time - start_time\n",
        "        print(f\"{func.__name__} took {execution_time:.4f} seconds to execute\")\n",
        "\n",
        "        return result\n",
        "    return wrapper\n",
        "\n",
        "# Example usage with different functions\n",
        "@measure_time\n",
        "def slow_function(n):\n",
        "    \"\"\"Demonstrates a slow function with time complexity O(n^2)\"\"\"\n",
        "    return [i * j for i in range(n) for j in range(n)]\n",
        "\n",
        "@measure_time\n",
        "def fast_function(n):\n",
        "    \"\"\"Demonstrates a faster function with time complexity O(n)\"\"\"\n",
        "    return [i * 2 for i in range(n)]\n",
        "\n",
        "@measure_time\n",
        "def fibonacci(n):\n",
        "    \"\"\"Recursive fibonacci to demonstrate with different input\"\"\"\n",
        "    if n <= 1:\n",
        "        return n\n",
        "    return fibonacci(n-1) + fibonacci(n-2)\n",
        "\n",
        "# Test the functions\n",
        "print(\"\\nTesting slow function:\")\n",
        "result = slow_function(1000)\n",
        "print(f\"Length of result: {len(result)}\")\n",
        "\n",
        "print(\"\\nTesting fast function:\")\n",
        "result = fast_function(1000)\n",
        "print(f\"Length of result: {len(result)}\")\n",
        "\n",
        "print(\"\\nTesting fibonacci:\")\n",
        "result = fibonacci(20)\n",
        "print(f\"Fibonacci result: {result}\")\n",
        "\n",
        "# Example with multiple decorators\n",
        "def log_function(func):\n",
        "    @functools.wraps(func)\n",
        "    def wrapper(*args, **kwargs):\n",
        "        print(f\"\\nCalling {func.__name__} with args: {args}, kwargs: {kwargs}\")\n",
        "        result = func(*args, **kwargs)\n",
        "        print(f\"{func.__name__} returned: {result}\")\n",
        "        return result\n",
        "    return wrapper\n",
        "\n",
        "# Using multiple decorators\n",
        "@measure_time\n",
        "@log_function\n",
        "def calculate_sum(a, b, multiplier=1):\n",
        "    \"\"\"Function with multiple decorators\"\"\"\n",
        "    return (a + b) * multiplier\n",
        "\n",
        "# Test multiple decorators\n",
        "print(\"\\nTesting multiple decorators:\")\n",
        "result = calculate_sum(5, 3, multiplier=2)"
      ],
      "metadata": {
        "id": "bQGCTqVenk0m"
      },
      "execution_count": null,
      "outputs": []
    },
    {
      "cell_type": "markdown",
      "source": [
        "13. Explain the concept of the Diamond Problem in multiple inheritance. How does Python resolve it?\n",
        "\n",
        "Sol: Diamond problem occurs in multiple inheritance when both the parent class have the same method name. This in turn becomes an ambiguity and the child class doesn't know which class method to inherit.\n",
        "Python has an inbuilt function known as Method Resolution Order (MRO). Now, if both the parent class have the same method name then the parent class which will be inherited first will be called and all its properties will be inherited.\n"
      ],
      "metadata": {
        "id": "yLzcKX76nnn2"
      }
    },
    {
      "cell_type": "markdown",
      "source": [
        "14. Write a class method that keeps track of the number of instances created from a class"
      ],
      "metadata": {
        "id": "V7W3TW0Do5pF"
      }
    },
    {
      "cell_type": "code",
      "source": [
        "class Student:\n",
        "    # Class variable to store count of instances\n",
        "    _instance_count = 0\n",
        "\n",
        "    def __init__(self, name, age):\n",
        "        self.name = name\n",
        "        self.age = age\n",
        "        # Increment count when instance is created\n",
        "        Student._instance_count += 1\n",
        "\n",
        "    @classmethod\n",
        "    def get_instance_count(cls):\n",
        "        \"\"\"Class method to return the number of instances\"\"\"\n",
        "        return cls._instance_count\n",
        "\n",
        "    @classmethod\n",
        "    def display_instance_info(cls):\n",
        "        \"\"\"Class method to display instance information\"\"\"\n",
        "        return f\"Number of {cls.__name__} instances created: {cls._instance_count}\"\n",
        "\n",
        "    def __del__(self):\n",
        "        \"\"\"Destructor to decrease count when instance is deleted\"\"\"\n",
        "        Student._instance_count -= 1\n",
        "\n",
        "    def __repr__(self):\n",
        "        return f\"Student(name='{self.name}', age={self.age})\"\n",
        "\n",
        "# Example usage\n",
        "print(\"Initial count:\", Student.get_instance_count())  # Output: 0\n",
        "\n",
        "# Create some instances\n",
        "student1 = Student(\"Alice\", 20)\n",
        "print(Student.display_instance_info())  # Output: 1\n",
        "\n",
        "student2 = Student(\"Bob\", 22)\n",
        "print(Student.display_instance_info())  # Output: 2\n",
        "\n",
        "student3 = Student(\"Charlie\", 21)\n",
        "print(Student.display_instance_info())  # Output: 3\n",
        "\n",
        "# Delete an instance\n",
        "del student2\n",
        "print(Student.display_instance_info())  # Output: 2\n",
        "\n",
        "# More advanced example with inheritance\n",
        "class Person:\n",
        "    _instance_count = 0\n",
        "\n",
        "    def __init__(self, name):\n",
        "        self.name = name\n",
        "        self.__class__._instance_count += 1\n",
        "\n",
        "    @classmethod\n",
        "    def get_instance_count(cls):\n",
        "        return cls._instance_count\n",
        "\n",
        "    def __del__(self):\n",
        "        self.__class__._instance_count -= 1\n",
        "\n",
        "class Teacher(Person):\n",
        "    _instance_count = 0  # Separate counter for Teacher class\n",
        "\n",
        "    def __init__(self, name, subject):\n",
        "        super().__init__(name)\n",
        "        self.subject = subject\n",
        "\n",
        "class StudentAdvanced(Person):\n",
        "    _instance_count = 0  # Separate counter for Student class\n",
        "\n",
        "    def __init__(self, name, grade):\n",
        "        super().__init__(name)\n",
        "        self.grade = grade\n",
        "\n",
        "# Testing inheritance tracking\n",
        "print(\"\\nTesting inheritance tracking:\")\n",
        "teacher1 = Teacher(\"Mr. Smith\", \"Math\")\n",
        "teacher2 = Teacher(\"Mrs. Jones\", \"English\")\n",
        "student1 = StudentAdvanced(\"Alice\", \"A\")\n",
        "student2 = StudentAdvanced(\"Bob\", \"B\")\n",
        "\n",
        "print(f\"Total Person instances: {Person.get_instance_count()}\")         # Output: 4\n",
        "print(f\"Teacher instances: {Teacher.get_instance_count()}\")            # Output: 2\n",
        "print(f\"Student instances: {StudentAdvanced.get_instance_count()}\")    # Output: 2\n",
        "\n",
        "# Example with instance tracking and additional features\n",
        "class InstanceTracker:\n",
        "    _instances = {}\n",
        "\n",
        "    def __init__(self):\n",
        "        cls = self.__class__\n",
        "        if cls not in self._instances:\n",
        "            self._instances[cls] = []\n",
        "        self._instances[cls].append(self)\n",
        "\n",
        "    @classmethod\n",
        "    def get_instances(cls):\n",
        "        \"\"\"Returns all instances of the class\"\"\"\n",
        "        return cls._instances.get(cls, [])\n",
        "\n",
        "    @classmethod\n",
        "    def get_instance_count(cls):\n",
        "        \"\"\"Returns number of instances\"\"\"\n",
        "        return len(cls.get_instances())\n",
        "\n",
        "    @classmethod\n",
        "    def clear_instances(cls):\n",
        "        \"\"\"Clears all ins"
      ],
      "metadata": {
        "id": "WnWtHI8Xo_x5"
      },
      "execution_count": null,
      "outputs": []
    },
    {
      "cell_type": "markdown",
      "source": [
        "15. Implement a static method in a class that checks if a given year is a leap year."
      ],
      "metadata": {
        "id": "3Y85pxR-pGE7"
      }
    },
    {
      "cell_type": "code",
      "source": [
        "class DateUtils:\n",
        "    @staticmethod\n",
        "    def is_leap_year(year):\n",
        "        # A year is a leap year if it's divisible by 4\n",
        "        # But years divisible by 100 are not leap years unless also divisible by 400\n",
        "        return year % 4 == 0 and (year % 100 != 0 or year % 400 == 0)\n",
        "\n",
        "# Example usage\n",
        "print(DateUtils.is_leap_year(2020))  # True, 2020 is a leap year\n",
        "print(DateUtils.is_leap_year(2021))  # False, 2021 is not a leap year\n",
        "print(DateUtils.is_leap_year(1900))  # False, 1900 is not a leap year\n",
        "print(DateUtils.is_leap_year(2000))  # True, 2000 is a leap year\n"
      ],
      "metadata": {
        "id": "3DeyJR_QpRec"
      },
      "execution_count": null,
      "outputs": []
    },
    {
      "cell_type": "markdown",
      "source": [
        "The is_leap_year method is decorated with @staticmethod to make it a static method.\n",
        "A year is considered a leap year if it is divisible by 4.\n",
        "However, if the year is also divisible by 100, it is not a leap year unless it is also divisible by 400."
      ],
      "metadata": {
        "id": "KctHIpDSpWza"
      }
    }
  ]
}